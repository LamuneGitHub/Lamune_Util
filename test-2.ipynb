{
 "cells": [
  {
   "cell_type": "code",
   "execution_count": 3,
   "metadata": {},
   "outputs": [
    {
     "ename": "IndexError",
     "evalue": "list index out of range",
     "output_type": "error",
     "traceback": [
      "\u001b[1;31m---------------------------------------------------------------------------\u001b[0m",
      "\u001b[1;31mIndexError\u001b[0m                                Traceback (most recent call last)",
      "\u001b[1;32md:\\#Desktop\\Git\\Github\\Lamune_Util\\test-2.ipynb 셀 1\u001b[0m in \u001b[0;36m<cell line: 9>\u001b[1;34m()\u001b[0m\n\u001b[0;32m      <a href='vscode-notebook-cell:/d%3A/%23Desktop/Git/Github/Lamune_Util/test-2.ipynb#W0sZmlsZQ%3D%3D?line=5'>6</a>\u001b[0m tick_label_font_name \u001b[39m=\u001b[39m \u001b[39m'\u001b[39m\u001b[39mNanum Pen Script\u001b[39m\u001b[39m'\u001b[39m\n\u001b[0;32m      <a href='vscode-notebook-cell:/d%3A/%23Desktop/Git/Github/Lamune_Util/test-2.ipynb#W0sZmlsZQ%3D%3D?line=7'>8</a>\u001b[0m \u001b[39m## 폰트 경로\u001b[39;00m\n\u001b[1;32m----> <a href='vscode-notebook-cell:/d%3A/%23Desktop/Git/Github/Lamune_Util/test-2.ipynb#W0sZmlsZQ%3D%3D?line=8'>9</a>\u001b[0m title_font_path \u001b[39m=\u001b[39m [f\u001b[39m.\u001b[39;49mfname \u001b[39mfor\u001b[39;49;00m f \u001b[39min\u001b[39;49;00m fm\u001b[39m.\u001b[39;49mfontManager\u001b[39m.\u001b[39;49mttflist \u001b[39mif\u001b[39;49;00m title_font_name \u001b[39min\u001b[39;49;00m f\u001b[39m.\u001b[39;49mname][\u001b[39m0\u001b[39;49m]\n\u001b[0;32m     <a href='vscode-notebook-cell:/d%3A/%23Desktop/Git/Github/Lamune_Util/test-2.ipynb#W0sZmlsZQ%3D%3D?line=9'>10</a>\u001b[0m tick_label_font_path \u001b[39m=\u001b[39m [f\u001b[39m.\u001b[39mfname \u001b[39mfor\u001b[39;00m f \u001b[39min\u001b[39;00m fm\u001b[39m.\u001b[39mfontManager\u001b[39m.\u001b[39mttflist \u001b[39mif\u001b[39;00m tick_label_font_name \u001b[39min\u001b[39;00m f\u001b[39m.\u001b[39mname][\u001b[39m0\u001b[39m]\n\u001b[0;32m     <a href='vscode-notebook-cell:/d%3A/%23Desktop/Git/Github/Lamune_Util/test-2.ipynb#W0sZmlsZQ%3D%3D?line=11'>12</a>\u001b[0m \u001b[39m## 폰트 사이즈\u001b[39;00m\n",
      "\u001b[1;31mIndexError\u001b[0m: list index out of range"
     ]
    }
   ],
   "source": [
    "import matplotlib.pyplot as plt\n",
    "import matplotlib.font_manager as fm\n",
    " \n",
    "## 폰트 이름\n",
    "title_font_name = 'NanumGothic'\n",
    "tick_label_font_name = 'Nanum Pen Script'\n",
    " \n",
    "## 폰트 경로\n",
    "title_font_path = [f.fname for f in fm.fontManager.ttflist if title_font_name in f.name][0]\n",
    "tick_label_font_path = [f.fname for f in fm.fontManager.ttflist if tick_label_font_name in f.name][0]\n",
    " \n",
    "## 폰트 사이즈\n",
    "title_font_size = 30\n",
    "tick_label_font_size = 25\n",
    " \n",
    "## FontProperties 인스턴스 생성\n",
    "title_font_prop = fm.FontProperties(fname = title_font_path, size=title_font_size)\n",
    "tick_label_font_prop = fm.FontProperties(fname = tick_label_font_path, size=tick_label_font_size)\n",
    " \n",
    "## 예제용 데이터\n",
    "frequency = [10,11,5,8,11] ## 빈도수\n",
    "label = ['가','나','다','라','마'] ## 그룹\n",
    " \n",
    "## 시각화 하기\n",
    "fig = plt.figure(figsize=(10,10))\n",
    " \n",
    "xpos = list(range(len(frequency))) ## 네모 바가 그려질 x 좌표\n",
    " \n",
    "plt.bar(xpos, height=frequency) ## 바차트 그리기\n",
    "plt.xticks(xpos, label, fontproperties=tick_label_font_prop) ## 바차트 눈금 설정\n",
    "plt.title('그룹별 빈도수', fontproperties=title_font_prop)\n",
    "plt.show()"
   ]
  },
  {
   "cell_type": "code",
   "execution_count": null,
   "metadata": {},
   "outputs": [],
   "source": []
  }
 ],
 "metadata": {
  "kernelspec": {
   "display_name": "Python 3.9.12 ('base')",
   "language": "python",
   "name": "python3"
  },
  "language_info": {
   "codemirror_mode": {
    "name": "ipython",
    "version": 3
   },
   "file_extension": ".py",
   "mimetype": "text/x-python",
   "name": "python",
   "nbconvert_exporter": "python",
   "pygments_lexer": "ipython3",
   "version": "3.9.12"
  },
  "orig_nbformat": 4,
  "vscode": {
   "interpreter": {
    "hash": "ae488ede5994f902087a9e268ab3cc1a00a04788d29140d49d6ca37f86add6a3"
   }
  }
 },
 "nbformat": 4,
 "nbformat_minor": 2
}
